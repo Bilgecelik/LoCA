{
 "cells": [
  {
   "cell_type": "code",
   "execution_count": null,
   "metadata": {
    "collapsed": true
   },
   "outputs": [],
   "source": [
    "from google.colab import drive\n",
    "drive.mount('/content/drive', force_remount=True)\n",
    "BASE_DIR = \"/content/drive/MyDrive/LoCA/\""
   ]
  },
  {
   "cell_type": "code",
   "execution_count": null,
   "outputs": [],
   "source": [
    "!git clone https://github.com/Bilgecelik/LoCA.git"
   ],
   "metadata": {
    "collapsed": false,
    "pycharm": {
     "name": "#%%\n"
    }
   }
  },
  {
   "cell_type": "code",
   "execution_count": null,
   "outputs": [],
   "source": [
    "!pip install -r \"LoCA/requirements.txt\"\n",
    "!pip install \"git+https://github.com/ContinualAI/avalanche.git\"\n",
    "!pip install avalanche-lib[l2p]"
   ],
   "metadata": {
    "collapsed": false,
    "pycharm": {
     "name": "#%%\n"
    }
   }
  },
  {
   "cell_type": "code",
   "execution_count": null,
   "outputs": [],
   "source": [
    "# CL Setup\n",
    "import torch\n",
    "import argparse\n",
    "from torch.nn import CrossEntropyLoss\n",
    "from torch.optim import SGD\n",
    "from avalanche.benchmarks.classic import PermutedMNIST\n",
    "from avalanche.models import SimpleMLP\n",
    "from avalanche.training.supervised import Naive\n",
    "from avalanche.training.supervised.l2p import LearningToPrompt\n",
    "from avalanche.logging import WandBLogger, InteractiveLogger\n",
    "from avalanche.evaluation.metrics import forgetting_metrics, accuracy_metrics, \\\n",
    "    loss_metrics\n",
    "from avalanche.training.plugins import EvaluationPlugin\n",
    "import wandb\n",
    "from typing import Dict\n",
    "WANDB_API_KEY='71b542c3072e07c51d1184841ffc50858ab2090e'\n",
    "\n",
    "\n",
    "device = torch.device(\"cuda:0\")\n",
    "print(device)\n",
    "benchmark = PermutedMNIST(n_experiences=3, seed=1)\n",
    "\n",
    "# set criteria, optimizer (config hp's), model (checkpoint)\n",
    "criterion = CrossEntropyLoss()\n",
    "\n",
    "# plot with wandb\n",
    "wandb_logger = WandBLogger(project_name=\"LOCA Trials\",\n",
    "                            run_name=\"Notebook_trials\",\n",
    "                            log_artifacts=True,\n",
    "                            config={\n",
    "                                \"dataset\": benchmark,\n",
    "                                \"strategy\": \"L2P\"\n",
    "                            }\n",
    "                            )\n",
    "\n",
    "# evaluation plugin\n",
    "eval_plugin = EvaluationPlugin(\n",
    "    accuracy_metrics(minibatch=True, epoch=True, experience=True, stream=True),\n",
    "    loss_metrics(minibatch=True, epoch=True, experience=True, stream=True),\n",
    "    forgetting_metrics(experience=True, stream=True),\n",
    "    loggers=[wandb_logger, InteractiveLogger()],\n",
    "    strict_checks=False\n",
    ")\n",
    "# define strategy\n",
    "strategy = LearningToPrompt(\n",
    "    model_name='vit_large_patch16_224',\n",
    "    criterion=CrossEntropyLoss(),\n",
    "    train_epochs=1,\n",
    "    device=device,\n",
    "    evaluator=eval_plugin,\n",
    "    num_classes=10,  # total # of classes in all tasks\n",
    "    use_vit=True,\n",
    "    lr=0.03,\n",
    "    pool_size=20,\n",
    "    prompt_length=5,\n",
    "    top_k=5,\n",
    "    sim_coefficient=0.5,  # default in avalanche is 0.1, paper is 0.5, not sensitive\n",
    ")\n",
    "\n",
    "# TRAINING LOOP\n",
    "print('Starting experiment...')\n",
    "results = []\n",
    "for experience in benchmark.train_stream:\n",
    "    # train returns a dictionary which contains all the metric values\n",
    "    res = strategy.train(experience)\n",
    "    print('Training completed')\n",
    "\n",
    "    print('Evaluating on experiences until current one.')\n",
    "    # test also returns a dictionary which contains all the metric values\n",
    "    print(strategy.eval(benchmark.test_stream[:experience.current_experience + 1]))\n",
    "\n",
    "wandb.finish()"
   ],
   "metadata": {
    "collapsed": false,
    "pycharm": {
     "name": "#%%\n"
    }
   }
  }
 ],
 "metadata": {
  "kernelspec": {
   "display_name": "Python 3",
   "language": "python",
   "name": "python3"
  },
  "language_info": {
   "codemirror_mode": {
    "name": "ipython",
    "version": 2
   },
   "file_extension": ".py",
   "mimetype": "text/x-python",
   "name": "python",
   "nbconvert_exporter": "python",
   "pygments_lexer": "ipython2",
   "version": "2.7.6"
  }
 },
 "nbformat": 4,
 "nbformat_minor": 0
}